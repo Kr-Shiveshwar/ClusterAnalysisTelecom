{
 "cells": [
  {
   "cell_type": "code",
   "execution_count": 1,
   "metadata": {
    "collapsed": true
   },
   "outputs": [],
   "source": [
    "import pandas as pd\n",
    "import numpy as np"
   ]
  },
  {
   "cell_type": "markdown",
   "metadata": {},
   "source": [
    "Import File"
   ]
  },
  {
   "cell_type": "code",
   "execution_count": 2,
   "metadata": {
    "collapsed": false
   },
   "outputs": [],
   "source": [
    "data = pd.read_csv(\"/home/shiveshwar/Programs/Telecom/TelcomData.csv\",sep=\",\",index_col=False)"
   ]
  },
  {
   "cell_type": "code",
   "execution_count": 3,
   "metadata": {
    "collapsed": false
   },
   "outputs": [
    {
     "data": {
      "text/html": [
       "<div>\n",
       "<table border=\"1\" class=\"dataframe\">\n",
       "  <thead>\n",
       "    <tr style=\"text-align: right;\">\n",
       "      <th></th>\n",
       "      <th>Unnamed: 0</th>\n",
       "      <th>State</th>\n",
       "      <th>VMail.Plan</th>\n",
       "      <th>International.Plan</th>\n",
       "      <th>Total.Day.Minutes</th>\n",
       "      <th>Total.Day.Calls</th>\n",
       "      <th>Total.Day.Charge</th>\n",
       "      <th>Total.Evening.Minutes</th>\n",
       "      <th>Total.Evening.Calls</th>\n",
       "      <th>Total.Evening.Charge</th>\n",
       "      <th>Total.Night.Minutes</th>\n",
       "      <th>Total.Night.Calls</th>\n",
       "      <th>Total.Night.Charge</th>\n",
       "      <th>Total.International.Minutes</th>\n",
       "      <th>Total.International.Calls</th>\n",
       "      <th>Total.International.Charge</th>\n",
       "      <th>Customer.Service.Calls</th>\n",
       "      <th>Number.VMail.Messages</th>\n",
       "      <th>Churn</th>\n",
       "    </tr>\n",
       "  </thead>\n",
       "  <tbody>\n",
       "    <tr>\n",
       "      <th>0</th>\n",
       "      <td>1</td>\n",
       "      <td>OH</td>\n",
       "      <td>Yes</td>\n",
       "      <td>Yes</td>\n",
       "      <td>752.85</td>\n",
       "      <td>83</td>\n",
       "      <td>45.1710</td>\n",
       "      <td>1027.74</td>\n",
       "      <td>99</td>\n",
       "      <td>30.8322</td>\n",
       "      <td>851.61</td>\n",
       "      <td>85</td>\n",
       "      <td>17.0322</td>\n",
       "      <td>900.08</td>\n",
       "      <td>76</td>\n",
       "      <td>270.024</td>\n",
       "      <td>55</td>\n",
       "      <td>88</td>\n",
       "      <td>No</td>\n",
       "    </tr>\n",
       "    <tr>\n",
       "      <th>1</th>\n",
       "      <td>2</td>\n",
       "      <td>OK</td>\n",
       "      <td>No</td>\n",
       "      <td>Yes</td>\n",
       "      <td>862.92</td>\n",
       "      <td>84</td>\n",
       "      <td>51.7752</td>\n",
       "      <td>827.74</td>\n",
       "      <td>79</td>\n",
       "      <td>24.8322</td>\n",
       "      <td>932.64</td>\n",
       "      <td>86</td>\n",
       "      <td>18.6528</td>\n",
       "      <td>972.73</td>\n",
       "      <td>93</td>\n",
       "      <td>291.819</td>\n",
       "      <td>47</td>\n",
       "      <td>103</td>\n",
       "      <td>No</td>\n",
       "    </tr>\n",
       "    <tr>\n",
       "      <th>2</th>\n",
       "      <td>3</td>\n",
       "      <td>AL</td>\n",
       "      <td>Yes</td>\n",
       "      <td>Yes</td>\n",
       "      <td>468.03</td>\n",
       "      <td>45</td>\n",
       "      <td>28.0818</td>\n",
       "      <td>588.86</td>\n",
       "      <td>57</td>\n",
       "      <td>17.6658</td>\n",
       "      <td>662.87</td>\n",
       "      <td>55</td>\n",
       "      <td>13.2574</td>\n",
       "      <td>513.69</td>\n",
       "      <td>62</td>\n",
       "      <td>154.107</td>\n",
       "      <td>33</td>\n",
       "      <td>64</td>\n",
       "      <td>Yes</td>\n",
       "    </tr>\n",
       "    <tr>\n",
       "      <th>3</th>\n",
       "      <td>4</td>\n",
       "      <td>MA</td>\n",
       "      <td>Yes</td>\n",
       "      <td>Yes</td>\n",
       "      <td>743.11</td>\n",
       "      <td>64</td>\n",
       "      <td>44.5866</td>\n",
       "      <td>582.09</td>\n",
       "      <td>46</td>\n",
       "      <td>17.4627</td>\n",
       "      <td>601.45</td>\n",
       "      <td>50</td>\n",
       "      <td>12.0290</td>\n",
       "      <td>699.86</td>\n",
       "      <td>55</td>\n",
       "      <td>209.958</td>\n",
       "      <td>37</td>\n",
       "      <td>60</td>\n",
       "      <td>No</td>\n",
       "    </tr>\n",
       "    <tr>\n",
       "      <th>4</th>\n",
       "      <td>5</td>\n",
       "      <td>MO</td>\n",
       "      <td>Yes</td>\n",
       "      <td>No</td>\n",
       "      <td>333.45</td>\n",
       "      <td>29</td>\n",
       "      <td>20.0070</td>\n",
       "      <td>439.42</td>\n",
       "      <td>42</td>\n",
       "      <td>13.1826</td>\n",
       "      <td>366.06</td>\n",
       "      <td>35</td>\n",
       "      <td>7.3212</td>\n",
       "      <td>367.30</td>\n",
       "      <td>34</td>\n",
       "      <td>110.190</td>\n",
       "      <td>22</td>\n",
       "      <td>34</td>\n",
       "      <td>No</td>\n",
       "    </tr>\n",
       "  </tbody>\n",
       "</table>\n",
       "</div>"
      ],
      "text/plain": [
       "   Unnamed: 0 State VMail.Plan International.Plan  Total.Day.Minutes  \\\n",
       "0           1    OH        Yes                Yes             752.85   \n",
       "1           2    OK         No                Yes             862.92   \n",
       "2           3    AL        Yes                Yes             468.03   \n",
       "3           4    MA        Yes                Yes             743.11   \n",
       "4           5    MO        Yes                 No             333.45   \n",
       "\n",
       "   Total.Day.Calls  Total.Day.Charge  Total.Evening.Minutes  \\\n",
       "0               83           45.1710                1027.74   \n",
       "1               84           51.7752                 827.74   \n",
       "2               45           28.0818                 588.86   \n",
       "3               64           44.5866                 582.09   \n",
       "4               29           20.0070                 439.42   \n",
       "\n",
       "   Total.Evening.Calls  Total.Evening.Charge  Total.Night.Minutes  \\\n",
       "0                   99               30.8322               851.61   \n",
       "1                   79               24.8322               932.64   \n",
       "2                   57               17.6658               662.87   \n",
       "3                   46               17.4627               601.45   \n",
       "4                   42               13.1826               366.06   \n",
       "\n",
       "   Total.Night.Calls  Total.Night.Charge  Total.International.Minutes  \\\n",
       "0                 85             17.0322                       900.08   \n",
       "1                 86             18.6528                       972.73   \n",
       "2                 55             13.2574                       513.69   \n",
       "3                 50             12.0290                       699.86   \n",
       "4                 35              7.3212                       367.30   \n",
       "\n",
       "   Total.International.Calls  Total.International.Charge  \\\n",
       "0                         76                     270.024   \n",
       "1                         93                     291.819   \n",
       "2                         62                     154.107   \n",
       "3                         55                     209.958   \n",
       "4                         34                     110.190   \n",
       "\n",
       "   Customer.Service.Calls  Number.VMail.Messages Churn  \n",
       "0                      55                     88    No  \n",
       "1                      47                    103    No  \n",
       "2                      33                     64   Yes  \n",
       "3                      37                     60    No  \n",
       "4                      22                     34    No  "
      ]
     },
     "execution_count": 3,
     "metadata": {},
     "output_type": "execute_result"
    }
   ],
   "source": [
    "data.head()"
   ]
  },
  {
   "cell_type": "code",
   "execution_count": 4,
   "metadata": {
    "collapsed": false
   },
   "outputs": [],
   "source": [
    "telecomdata = data.iloc[:,4:14]"
   ]
  },
  {
   "cell_type": "code",
   "execution_count": 5,
   "metadata": {
    "collapsed": false
   },
   "outputs": [],
   "source": [
    "from sklearn import preprocessing"
   ]
  },
  {
   "cell_type": "code",
   "execution_count": 6,
   "metadata": {
    "collapsed": true
   },
   "outputs": [],
   "source": [
    "telecomdata_scale = preprocessing.scale(telecomdata)"
   ]
  },
  {
   "cell_type": "code",
   "execution_count": 7,
   "metadata": {
    "collapsed": false
   },
   "outputs": [],
   "source": [
    "telecom_df = pd.DataFrame(telecomdata_scale)"
   ]
  },
  {
   "cell_type": "code",
   "execution_count": 8,
   "metadata": {
    "collapsed": false
   },
   "outputs": [
    {
     "data": {
      "text/html": [
       "<div>\n",
       "<table border=\"1\" class=\"dataframe\">\n",
       "  <thead>\n",
       "    <tr style=\"text-align: right;\">\n",
       "      <th></th>\n",
       "      <th>0</th>\n",
       "      <th>1</th>\n",
       "      <th>2</th>\n",
       "      <th>3</th>\n",
       "      <th>4</th>\n",
       "      <th>5</th>\n",
       "      <th>6</th>\n",
       "      <th>7</th>\n",
       "      <th>8</th>\n",
       "      <th>9</th>\n",
       "    </tr>\n",
       "  </thead>\n",
       "  <tbody>\n",
       "    <tr>\n",
       "      <th>0</th>\n",
       "      <td>4.651866</td>\n",
       "      <td>5.039731</td>\n",
       "      <td>4.651866</td>\n",
       "      <td>6.890842</td>\n",
       "      <td>6.301794</td>\n",
       "      <td>6.890842</td>\n",
       "      <td>5.429648</td>\n",
       "      <td>5.162620</td>\n",
       "      <td>5.429648</td>\n",
       "      <td>5.753073</td>\n",
       "    </tr>\n",
       "    <tr>\n",
       "      <th>1</th>\n",
       "      <td>5.553468</td>\n",
       "      <td>5.119161</td>\n",
       "      <td>5.553468</td>\n",
       "      <td>5.254667</td>\n",
       "      <td>4.715588</td>\n",
       "      <td>5.254667</td>\n",
       "      <td>6.089982</td>\n",
       "      <td>5.241514</td>\n",
       "      <td>6.089982</td>\n",
       "      <td>6.338132</td>\n",
       "    </tr>\n",
       "    <tr>\n",
       "      <th>2</th>\n",
       "      <td>2.318858</td>\n",
       "      <td>2.021389</td>\n",
       "      <td>2.318858</td>\n",
       "      <td>3.300420</td>\n",
       "      <td>2.970762</td>\n",
       "      <td>3.300420</td>\n",
       "      <td>3.891557</td>\n",
       "      <td>2.795783</td>\n",
       "      <td>3.891557</td>\n",
       "      <td>2.641427</td>\n",
       "    </tr>\n",
       "    <tr>\n",
       "      <th>3</th>\n",
       "      <td>4.572084</td>\n",
       "      <td>3.530560</td>\n",
       "      <td>4.572084</td>\n",
       "      <td>3.245035</td>\n",
       "      <td>2.098348</td>\n",
       "      <td>3.245035</td>\n",
       "      <td>3.391029</td>\n",
       "      <td>2.401311</td>\n",
       "      <td>3.391029</td>\n",
       "      <td>4.140677</td>\n",
       "    </tr>\n",
       "    <tr>\n",
       "      <th>4</th>\n",
       "      <td>1.216491</td>\n",
       "      <td>0.750508</td>\n",
       "      <td>1.216491</td>\n",
       "      <td>2.077870</td>\n",
       "      <td>1.781107</td>\n",
       "      <td>2.077870</td>\n",
       "      <td>1.472775</td>\n",
       "      <td>1.217892</td>\n",
       "      <td>1.472775</td>\n",
       "      <td>1.462531</td>\n",
       "    </tr>\n",
       "  </tbody>\n",
       "</table>\n",
       "</div>"
      ],
      "text/plain": [
       "          0         1         2         3         4         5         6  \\\n",
       "0  4.651866  5.039731  4.651866  6.890842  6.301794  6.890842  5.429648   \n",
       "1  5.553468  5.119161  5.553468  5.254667  4.715588  5.254667  6.089982   \n",
       "2  2.318858  2.021389  2.318858  3.300420  2.970762  3.300420  3.891557   \n",
       "3  4.572084  3.530560  4.572084  3.245035  2.098348  3.245035  3.391029   \n",
       "4  1.216491  0.750508  1.216491  2.077870  1.781107  2.077870  1.472775   \n",
       "\n",
       "          7         8         9  \n",
       "0  5.162620  5.429648  5.753073  \n",
       "1  5.241514  6.089982  6.338132  \n",
       "2  2.795783  3.891557  2.641427  \n",
       "3  2.401311  3.391029  4.140677  \n",
       "4  1.217892  1.472775  1.462531  "
      ]
     },
     "execution_count": 8,
     "metadata": {},
     "output_type": "execute_result"
    }
   ],
   "source": [
    "telecom_df.head()"
   ]
  },
  {
   "cell_type": "code",
   "execution_count": 9,
   "metadata": {
    "collapsed": false
   },
   "outputs": [],
   "source": [
    "# k-means cluster analysis for 1-9 clusters\n",
    "from scipy.spatial.distance import cdist\n",
    "from sklearn.cluster import KMeans\n",
    "import matplotlib.pylab as plt\n",
    "\n",
    "clusters=range(1,10)\n",
    "meandist=[]"
   ]
  },
  {
   "cell_type": "code",
   "execution_count": 10,
   "metadata": {
    "collapsed": false
   },
   "outputs": [],
   "source": [
    "for k in clusters:\n",
    "    model=KMeans(n_clusters=k)\n",
    "    model.fit(telecomdata_scale)\n",
    "    meandist.append(sum(np.min(cdist(telecom_df, model.cluster_centers_, 'euclidean'), axis=1)) \n",
    "    / telecomdata_scale.shape[0])\n"
   ]
  },
  {
   "cell_type": "code",
   "execution_count": 11,
   "metadata": {
    "collapsed": false,
    "scrolled": false
   },
   "outputs": [
    {
     "data": {
      "image/png": "[encoded data removed]",
      "text/plain": [
       "<matplotlib.figure.Figure at 0x7f122d453518>"
      ]
     },
     "metadata": {},
     "output_type": "display_data"
    }
   ],
   "source": [
    "# Plot to decide the number of cluster\n",
    "\n",
    "plt.plot(clusters, meandist)\n",
    "plt.xlabel('Number of clusters')\n",
    "plt.ylabel('Average distance')\n",
    "plt.title('Selecting k with the Elbow Method')\n",
    "\n",
    "plt.show()"
   ]
  },
  {
   "cell_type": "markdown",
   "metadata": {},
   "source": [
    "Here we will decide to form cluster 3 Cluster"
   ]
  },
  {
   "cell_type": "code",
   "execution_count": 12,
   "metadata": {
    "collapsed": false
   },
   "outputs": [
    {
     "data": {
      "text/plain": [
       "KMeans(copy_x=True, init='k-means++', max_iter=300, n_clusters=3, n_init=10,\n",
       "    n_jobs=1, precompute_distances='auto', random_state=None, tol=0.0001,\n",
       "    verbose=0)"
      ]
     },
     "execution_count": 12,
     "metadata": {},
     "output_type": "execute_result"
    }
   ],
   "source": [
    "# Final Model\n",
    "\n",
    "model_final = KMeans(n_clusters=3)\n",
    "model_final.fit(telecom_df)"
   ]
  },
  {
   "cell_type": "code",
   "execution_count": 13,
   "metadata": {
    "collapsed": false
   },
   "outputs": [
    {
     "data": {
      "image/png": "[encoded data removed]",
      "text/plain": [
       "<matplotlib.figure.Figure at 0x7f122ac10198>"
      ]
     },
     "metadata": {},
     "output_type": "display_data"
    }
   ],
   "source": [
    "# plot Cluster\n",
    "from sklearn.decomposition import PCA\n",
    "\n",
    "pca_2 = PCA(2)\n",
    "plot_columns = pca_2.fit_transform(telecomdata_scale)\n",
    "plt.scatter(x=plot_columns[:,0], y=plot_columns[:,1], c=model_final.labels_)\n",
    "plt.xlabel('PC 1')\n",
    "plt.ylabel('PC 2')\n",
    "plt.title('Scatterplot of Principal for 3 Clusters')\n",
    "plt.show()\n"
   ]
  },
  {
   "cell_type": "code",
   "execution_count": 14,
   "metadata": {
    "collapsed": false
   },
   "outputs": [],
   "source": [
    "# Assigning the cluster to the dataset\n",
    "telecomdata['cluster'] = model_final.labels_"
   ]
  },
  {
   "cell_type": "code",
   "execution_count": 15,
   "metadata": {
    "collapsed": false
   },
   "outputs": [
    {
     "data": {
      "image/png": "[encoded data removed]",
      "text/plain": [
       "<matplotlib.figure.Figure at 0x7f122d48e0b8>"
      ]
     },
     "metadata": {},
     "output_type": "display_data"
    }
   ],
   "source": [
    "telecomdata['cluster'].hist()\n",
    "plt.show()"
   ]
  },
  {
   "cell_type": "code",
   "execution_count": 16,
   "metadata": {
    "collapsed": false
   },
   "outputs": [
    {
     "data": {
      "text/html": [
       "<div>\n",
       "<table border=\"1\" class=\"dataframe\">\n",
       "  <thead>\n",
       "    <tr style=\"text-align: right;\">\n",
       "      <th></th>\n",
       "      <th>Total.Day.Minutes</th>\n",
       "      <th>Total.Day.Calls</th>\n",
       "      <th>Total.Day.Charge</th>\n",
       "      <th>Total.Evening.Minutes</th>\n",
       "      <th>Total.Evening.Calls</th>\n",
       "      <th>Total.Evening.Charge</th>\n",
       "      <th>Total.Night.Minutes</th>\n",
       "      <th>Total.Night.Calls</th>\n",
       "      <th>Total.Night.Charge</th>\n",
       "      <th>Total.International.Minutes</th>\n",
       "    </tr>\n",
       "    <tr>\n",
       "      <th>cluster</th>\n",
       "      <th></th>\n",
       "      <th></th>\n",
       "      <th></th>\n",
       "      <th></th>\n",
       "      <th></th>\n",
       "      <th></th>\n",
       "      <th></th>\n",
       "      <th></th>\n",
       "      <th></th>\n",
       "      <th></th>\n",
       "    </tr>\n",
       "  </thead>\n",
       "  <tbody>\n",
       "    <tr>\n",
       "      <th>0</th>\n",
       "      <td>91.927493</td>\n",
       "      <td>9.814570</td>\n",
       "      <td>5.515650</td>\n",
       "      <td>91.984499</td>\n",
       "      <td>9.786660</td>\n",
       "      <td>2.759535</td>\n",
       "      <td>91.762271</td>\n",
       "      <td>9.789026</td>\n",
       "      <td>1.835245</td>\n",
       "      <td>95.112351</td>\n",
       "    </tr>\n",
       "    <tr>\n",
       "      <th>1</th>\n",
       "      <td>221.407356</td>\n",
       "      <td>23.387731</td>\n",
       "      <td>13.284441</td>\n",
       "      <td>223.095331</td>\n",
       "      <td>23.470518</td>\n",
       "      <td>6.692860</td>\n",
       "      <td>222.200339</td>\n",
       "      <td>23.435378</td>\n",
       "      <td>4.444007</td>\n",
       "      <td>220.731132</td>\n",
       "    </tr>\n",
       "    <tr>\n",
       "      <th>2</th>\n",
       "      <td>393.551402</td>\n",
       "      <td>41.342065</td>\n",
       "      <td>23.613084</td>\n",
       "      <td>392.361217</td>\n",
       "      <td>41.158706</td>\n",
       "      <td>11.770837</td>\n",
       "      <td>394.758428</td>\n",
       "      <td>41.382126</td>\n",
       "      <td>7.895169</td>\n",
       "      <td>390.073852</td>\n",
       "    </tr>\n",
       "  </tbody>\n",
       "</table>\n",
       "</div>"
      ],
      "text/plain": [
       "         Total.Day.Minutes  Total.Day.Calls  Total.Day.Charge  \\\n",
       "cluster                                                         \n",
       "0                91.927493         9.814570          5.515650   \n",
       "1               221.407356        23.387731         13.284441   \n",
       "2               393.551402        41.342065         23.613084   \n",
       "\n",
       "         Total.Evening.Minutes  Total.Evening.Calls  Total.Evening.Charge  \\\n",
       "cluster                                                                     \n",
       "0                    91.984499             9.786660              2.759535   \n",
       "1                   223.095331            23.470518              6.692860   \n",
       "2                   392.361217            41.158706             11.770837   \n",
       "\n",
       "         Total.Night.Minutes  Total.Night.Calls  Total.Night.Charge  \\\n",
       "cluster                                                               \n",
       "0                  91.762271           9.789026            1.835245   \n",
       "1                 222.200339          23.435378            4.444007   \n",
       "2                 394.758428          41.382126            7.895169   \n",
       "\n",
       "         Total.International.Minutes  \n",
       "cluster                               \n",
       "0                          95.112351  \n",
       "1                         220.731132  \n",
       "2                         390.073852  "
      ]
     },
     "execution_count": 16,
     "metadata": {},
     "output_type": "execute_result"
    }
   ],
   "source": [
    "# Cluster Chareteristics\n",
    "telecomdata.groupby(\"cluster\").mean()"
   ]
  },
  {
   "cell_type": "code",
   "execution_count": null,
   "metadata": {
    "collapsed": true
   },
   "outputs": [],
   "source": []
  }
 ],
 "metadata": {
  "anaconda-cloud": {},
  "kernelspec": {
   "display_name": "Python [conda root]",
   "language": "python",
   "name": "conda-root-py"
  },
  "language_info": {
   "codemirror_mode": {
    "name": "ipython",
    "version": 3
   },
   "file_extension": ".py",
   "mimetype": "text/x-python",
   "name": "python",
   "nbconvert_exporter": "python",
   "pygments_lexer": "ipython3",
   "version": "3.5.2"
  },
  "nbpresent": {
   "slides": {},
   "themes": {
    "default": "1ec9b916-17d6-487a-81d5-a08fa6676e75",
    "theme": {
     "1ec9b916-17d6-487a-81d5-a08fa6676e75": {
      "backgrounds": {
       "dc7afa04-bf90-40b1-82a5-726e3cff5267": {
        "background-color": "31af15d2-7e15-44c5-ab5e-e04b16a89eff",
        "id": "dc7afa04-bf90-40b1-82a5-726e3cff5267"
       }
      },
      "id": "1ec9b916-17d6-487a-81d5-a08fa6676e75",
      "palette": {
       "19cc588f-0593-49c9-9f4b-e4d7cc113b1c": {
        "id": "19cc588f-0593-49c9-9f4b-e4d7cc113b1c",
        "rgb": [
         252,
         252,
         252
        ]
       },
       "31af15d2-7e15-44c5-ab5e-e04b16a89eff": {
        "id": "31af15d2-7e15-44c5-ab5e-e04b16a89eff",
        "rgb": [
         68,
         68,
         68
        ]
       },
       "50f92c45-a630-455b-aec3-788680ec7410": {
        "id": "50f92c45-a630-455b-aec3-788680ec7410",
        "rgb": [
         197,
         226,
         245
        ]
       },
       "c5cc3653-2ee1-402a-aba2-7caae1da4f6c": {
        "id": "c5cc3653-2ee1-402a-aba2-7caae1da4f6c",
        "rgb": [
         43,
         126,
         184
        ]
       },
       "efa7f048-9acb-414c-8b04-a26811511a21": {
        "id": "efa7f048-9acb-414c-8b04-a26811511a21",
        "rgb": [
         25.118061674008803,
         73.60176211453744,
         107.4819383259912
        ]
       }
      },
      "rules": {
       "a": {
        "color": "19cc588f-0593-49c9-9f4b-e4d7cc113b1c"
       },
       "blockquote": {
        "color": "50f92c45-a630-455b-aec3-788680ec7410",
        "font-size": 3
       },
       "code": {
        "font-family": "Anonymous Pro"
       },
       "h1": {
        "color": "19cc588f-0593-49c9-9f4b-e4d7cc113b1c",
        "font-family": "Merriweather",
        "font-size": 8
       },
       "h2": {
        "color": "19cc588f-0593-49c9-9f4b-e4d7cc113b1c",
        "font-family": "Merriweather",
        "font-size": 6
       },
       "h3": {
        "color": "50f92c45-a630-455b-aec3-788680ec7410",
        "font-family": "Lato",
        "font-size": 5.5
       },
       "h4": {
        "color": "c5cc3653-2ee1-402a-aba2-7caae1da4f6c",
        "font-family": "Lato",
        "font-size": 5
       },
       "h5": {
        "font-family": "Lato"
       },
       "h6": {
        "font-family": "Lato"
       },
       "h7": {
        "font-family": "Lato"
       },
       "li": {
        "color": "50f92c45-a630-455b-aec3-788680ec7410",
        "font-size": 3.25
       },
       "pre": {
        "font-family": "Anonymous Pro",
        "font-size": 4
       }
      },
      "text-base": {
       "color": "19cc588f-0593-49c9-9f4b-e4d7cc113b1c",
       "font-family": "Lato",
       "font-size": 4
      }
     },
     "6e9559e0-1ec5-431c-ab7f-5dc1f8599a2d": {
      "backgrounds": {
       "dc7afa04-bf90-40b1-82a5-726e3cff5267": {
        "background-color": "31af15d2-7e15-44c5-ab5e-e04b16a89eff",
        "id": "dc7afa04-bf90-40b1-82a5-726e3cff5267"
       }
      },
      "id": "6e9559e0-1ec5-431c-ab7f-5dc1f8599a2d",
      "palette": {
       "19cc588f-0593-49c9-9f4b-e4d7cc113b1c": {
        "id": "19cc588f-0593-49c9-9f4b-e4d7cc113b1c",
        "rgb": [
         252,
         252,
         252
        ]
       },
       "31af15d2-7e15-44c5-ab5e-e04b16a89eff": {
        "id": "31af15d2-7e15-44c5-ab5e-e04b16a89eff",
        "rgb": [
         68,
         68,
         68
        ]
       },
       "50f92c45-a630-455b-aec3-788680ec7410": {
        "id": "50f92c45-a630-455b-aec3-788680ec7410",
        "rgb": [
         197,
         226,
         245
        ]
       },
       "c5cc3653-2ee1-402a-aba2-7caae1da4f6c": {
        "id": "c5cc3653-2ee1-402a-aba2-7caae1da4f6c",
        "rgb": [
         43,
         126,
         184
        ]
       },
       "efa7f048-9acb-414c-8b04-a26811511a21": {
        "id": "efa7f048-9acb-414c-8b04-a26811511a21",
        "rgb": [
         25.118061674008803,
         73.60176211453744,
         107.4819383259912
        ]
       }
      },
      "rules": {
       "a": {
        "color": "19cc588f-0593-49c9-9f4b-e4d7cc113b1c"
       },
       "blockquote": {
        "color": "50f92c45-a630-455b-aec3-788680ec7410",
        "font-size": 3
       },
       "code": {
        "font-family": "Anonymous Pro"
       },
       "h1": {
        "color": "19cc588f-0593-49c9-9f4b-e4d7cc113b1c",
        "font-family": "Merriweather",
        "font-size": 8
       },
       "h2": {
        "color": "19cc588f-0593-49c9-9f4b-e4d7cc113b1c",
        "font-family": "Merriweather",
        "font-size": 6
       },
       "h3": {
        "color": "50f92c45-a630-455b-aec3-788680ec7410",
        "font-family": "Lato",
        "font-size": 5.5
       },
       "h4": {
        "color": "c5cc3653-2ee1-402a-aba2-7caae1da4f6c",
        "font-family": "Lato",
        "font-size": 5
       },
       "h5": {
        "font-family": "Lato"
       },
       "h6": {
        "font-family": "Lato"
       },
       "h7": {
        "font-family": "Lato"
       },
       "li": {
        "color": "50f92c45-a630-455b-aec3-788680ec7410",
        "font-size": 3.25
       },
       "pre": {
        "font-family": "Anonymous Pro",
        "font-size": 4
       }
      },
      "text-base": {
       "color": "19cc588f-0593-49c9-9f4b-e4d7cc113b1c",
       "font-family": "Lato",
       "font-size": 4
      }
     }
    }
   }
  }
 },
 "nbformat": 4,
 "nbformat_minor": 1
}
